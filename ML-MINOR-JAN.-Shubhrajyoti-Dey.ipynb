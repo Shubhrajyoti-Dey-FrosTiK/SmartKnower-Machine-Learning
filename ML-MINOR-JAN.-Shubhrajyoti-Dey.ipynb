{
  "nbformat": 4,
  "nbformat_minor": 0,
  "metadata": {
    "colab": {
      "name": "Image_Classification.ipynb",
      "provenance": [],
      "collapsed_sections": [],
      "toc_visible": true
    },
    "kernelspec": {
      "name": "python3",
      "display_name": "Python 3"
    }
  },
  "cells": [
    {
      "cell_type": "markdown",
      "metadata": {
        "id": "Txf-4i1Tcy-o"
      },
      "source": [
        "# **IMAGE PROCESSING**\n",
        "\n",
        "\n",
        "\n",
        "---\n",
        "\n"
      ]
    },
    {
      "cell_type": "markdown",
      "metadata": {
        "id": "d5Rw_ceeH5aa"
      },
      "source": [
        "#**STEP ! : We have to import the dataset of images first**\n",
        "\n",
        "**Two of the ways are**\n",
        "\n",
        "1.   Using GDrive for a permenant storage\n",
        "2.   Impoting it by a lubrary\n",
        "\n"
      ]
    },
    {
      "cell_type": "markdown",
      "metadata": {
        "id": "QkxVRlpRI1Ht"
      },
      "source": [
        "# **METHOD 1 : Mounting GDrive and using it as a storage**\n",
        "\n",
        "Here I am going to source my datasets from [Kaggle.com](https://Kaggle.com)\n",
        "\n",
        "**STEPS :**\n",
        "\n",
        "1. Mount the GDrive with Google Collab by authenticating the account\n",
        "\n",
        "**Syntax :**\n",
        "\n",
        "```\n",
        "from google.colab import drive\n",
        "drive.mount('/content/gdrive')\n",
        "```\n",
        "\n"
      ]
    },
    {
      "cell_type": "code",
      "metadata": {
        "colab": {
          "base_uri": "https://localhost:8080/"
        },
        "id": "nIhl70NmJ695",
        "outputId": "e2ee3936-df02-4168-8d62-a05f1c405070"
      },
      "source": [
        "from google.colab import drive\n",
        "drive.mount('/content/gdrive')"
      ],
      "execution_count": 1,
      "outputs": [
        {
          "output_type": "stream",
          "text": [
            "Mounted at /content/gdrive\n"
          ],
          "name": "stdout"
        }
      ]
    },
    {
      "cell_type": "markdown",
      "metadata": {
        "id": "spZoPB6AKlFg"
      },
      "source": [
        "**2. Make a directory in GDrive for the dataset and download the authentication token and ** ```Kaggle.json``` **from your Kaggle profile**\n",
        "\n",
        "**3. Upload the **```Kaggle.json``` **to the new directory**\n",
        "\n",
        "**4. Import OS**"
      ]
    },
    {
      "cell_type": "code",
      "metadata": {
        "id": "wXAf16ecK5KC"
      },
      "source": [
        "import os\n",
        "os.environ['KAGGLE_CONFIG_DIR'] = \"/content/gdrive/My Drive/ML/KAGGLE\""
      ],
      "execution_count": null,
      "outputs": []
    },
    {
      "cell_type": "markdown",
      "metadata": {
        "id": "85uwFYDuLKvQ"
      },
      "source": [
        "**5.Change he present directory and move it to the directory where the **```Kaggle.json``` **is present**\n",
        "\n",
        "**Syntax :**\n",
        "\n",
        "``` cd \"/Path_Of_Directory\" ```"
      ]
    },
    {
      "cell_type": "code",
      "metadata": {
        "colab": {
          "base_uri": "https://localhost:8080/"
        },
        "id": "h2YKzh_lNPBE",
        "outputId": "bd0b80d4-9f15-41a6-b46c-10f5b333e5ab"
      },
      "source": [
        "cd \"/content/gdrive/My Drive/ML/KAGGLE\""
      ],
      "execution_count": null,
      "outputs": [
        {
          "output_type": "stream",
          "text": [
            "/content/gdrive/My Drive/ML/KAGGLE\n"
          ],
          "name": "stdout"
        }
      ]
    },
    {
      "cell_type": "markdown",
      "metadata": {
        "id": "vBaTKTJ3OLla"
      },
      "source": [
        "**6. Copy the API from the website and call it here and give an```!``` before it**"
      ]
    },
    {
      "cell_type": "code",
      "metadata": {
        "id": "4UWUSuoDPBUt"
      },
      "source": [
        "!kaggle datasets download -d cdart99/food20dataset"
      ],
      "execution_count": null,
      "outputs": []
    },
    {
      "cell_type": "markdown",
      "metadata": {
        "id": "IX-t1lqFPQhB"
      },
      "source": [
        "**7. UnZip it and remove the Zip file**"
      ]
    },
    {
      "cell_type": "code",
      "metadata": {
        "id": "5uxbJVWTPZIh"
      },
      "source": [
        "!unzip \\*.zip  && rm *.zip"
      ],
      "execution_count": null,
      "outputs": []
    },
    {
      "cell_type": "markdown",
      "metadata": {
        "id": "j10c_6I9xmyh"
      },
      "source": [
        "# **METHOD 2 : Installing library to downlaod the images dataset for us**"
      ]
    },
    {
      "cell_type": "code",
      "metadata": {
        "id": "cSqkdd7loH_d",
        "colab": {
          "base_uri": "https://localhost:8080/"
        },
        "outputId": "765d5577-f765-45fb-f7ec-f98901cd2b24"
      },
      "source": [
        "!pip install bing-image-downloader"
      ],
      "execution_count": 3,
      "outputs": [
        {
          "output_type": "stream",
          "text": [
            "Collecting bing-image-downloader\n",
            "  Downloading https://files.pythonhosted.org/packages/0d/bf/537a61030b84ae4cd5022d5c7b014fd9bc3ce7c02358919153a6658a61d3/bing_image_downloader-1.0.4-py3-none-any.whl\n",
            "Installing collected packages: bing-image-downloader\n",
            "Successfully installed bing-image-downloader-1.0.4\n"
          ],
          "name": "stdout"
        }
      ]
    },
    {
      "cell_type": "code",
      "metadata": {
        "id": "ewAY1wNroLiA"
      },
      "source": [
        "from bing_image_downloader import downloader"
      ],
      "execution_count": 4,
      "outputs": []
    },
    {
      "cell_type": "markdown",
      "metadata": {
        "id": "jbvTZs45oQaB"
      },
      "source": [
        "# **Importing the Datasets from the downloader**\n",
        "\n",
        "We will use the library to download the images fron bing search engine\n",
        "\n",
        "**Syntax :**\n",
        "\n",
        "```\n",
        "# downloader.download('Search Result needed', limit=No_Of_Photos_To_Download , output_dir='Directory_to_Download', adult_filter_off=True)\n",
        "```\n",
        "\n"
      ]
    },
    {
      "cell_type": "code",
      "metadata": {
        "id": "Pcysu8FZoQ5Z",
        "colab": {
          "base_uri": "https://localhost:8080/"
        },
        "outputId": "65b59527-43d7-493e-92a2-d78b78ec6a26"
      },
      "source": [
        "downloader.download('fruits', limit=20 , output_dir='images', adult_filter_off=True)"
      ],
      "execution_count": 5,
      "outputs": [
        {
          "output_type": "stream",
          "text": [
            "\n",
            "\n",
            "[!!]Indexing page: 1\n",
            "\n",
            "[%] Indexed 12 Images on Page 1.\n",
            "\n",
            "===============================================\n",
            "\n",
            "[%] Downloading Image #1 from http://hd-wallpapers.co/download/fresh-fruits-hd-wallpaper-2560x1600.jpg\n",
            "[%] File Downloaded !\n",
            "\n",
            "[%] Downloading Image #2 from https://plantstreesflowers.sihanoukville-cambodia.com/images/fruit-pictures/a33.jpg\n",
            "[%] File Downloaded !\n",
            "\n",
            "[%] Downloading Image #3 from http://www.photofurl.com/wp-content/themes/page/tools/downloader.php?src=http://www.photofurl.com/wp-content/uploads/2011/09/white-lion-cell-phone-wallpaper.jpg\n",
            "[%] File Downloaded !\n",
            "\n",
            "[%] Downloading Image #4 from http://www.rosesandrings.com/wp-content/uploads/2018/06/naked-wedding-cake-with-fruits.jpg\n",
            "[%] File Downloaded !\n",
            "\n",
            "[%] Downloading Image #5 from http://www.pickchur.com/wp-content/uploads/2013/11/skeletons-with-ornaments-5.jpg\n",
            "[%] File Downloaded !\n",
            "\n",
            "[%] Downloading Image #6 from http://www.britishmuseum.org/collectionimages/AN00102/AN00102315_001_l.jpg\n",
            "[!] Issue getting: http://www.britishmuseum.org/collectionimages/AN00102/AN00102315_001_l.jpg\n",
            "[!] Error:: <urlopen error [SSL: CERTIFICATE_VERIFY_FAILED] certificate verify failed (_ssl.c:852)>\n",
            "[%] Downloading Image #6 from http://www.notsoboringlife.com/wp-content/uploads/2011/01/food-and-drink.jpg\n",
            "[%] File Downloaded !\n",
            "\n",
            "[%] Downloading Image #7 from http://thewowstyle.com/wp-content/uploads/2016/07/Traditional-Yellow-Kitchen-Design.jpg\n",
            "[%] File Downloaded !\n",
            "\n",
            "[%] Downloading Image #8 from http://siteforeverything.com/wp-content/uploads/2015/12/Klaus_Enrique_LHOOQ.jpg\n",
            "[%] File Downloaded !\n",
            "\n",
            "[%] Downloading Image #9 from https://wallpapershome.com/images/wallpapers/cheeseburger-2160x3840-fast-food-french-fries-cheese-steak-coca-cola-627.jpg\n",
            "[%] File Downloaded !\n",
            "\n",
            "[%] Downloading Image #10 from https://cdn.architecturendesign.net/wp-content/uploads/2016/03/AD-Insanely-Clever-Storage-Solutions-For-Furits-And-Vegetables-20.jpeg\n",
            "[%] File Downloaded !\n",
            "\n",
            "[%] Downloading Image #11 from http://iphoneswallpapers.com/wp-content/uploads/2017/03/mountain-Lofoten-Norway-sky-sea-lofoten-islands-iPhone-Wallpaper-iphoneswallpapers_com.jpg\n",
            "[%] File Downloaded !\n",
            "\n",
            "\n",
            "\n",
            "[!!]Indexing page: 2\n",
            "\n",
            "[%] Indexed 12 Images on Page 2.\n",
            "\n",
            "===============================================\n",
            "\n",
            "[%] Downloading Image #12 from http://hd-wallpapers.co/download/fresh-fruits-hd-wallpaper-2560x1600.jpg\n",
            "[%] File Downloaded !\n",
            "\n",
            "[%] Downloading Image #13 from https://plantstreesflowers.sihanoukville-cambodia.com/images/fruit-pictures/a33.jpg\n",
            "[%] File Downloaded !\n",
            "\n",
            "[%] Downloading Image #14 from http://www.photofurl.com/wp-content/themes/page/tools/downloader.php?src=http://www.photofurl.com/wp-content/uploads/2011/09/white-lion-cell-phone-wallpaper.jpg\n",
            "[%] File Downloaded !\n",
            "\n",
            "[%] Downloading Image #15 from http://www.rosesandrings.com/wp-content/uploads/2018/06/naked-wedding-cake-with-fruits.jpg\n",
            "[%] File Downloaded !\n",
            "\n",
            "[%] Downloading Image #16 from http://www.pickchur.com/wp-content/uploads/2013/11/skeletons-with-ornaments-5.jpg\n",
            "[%] File Downloaded !\n",
            "\n",
            "[%] Downloading Image #17 from http://www.britishmuseum.org/collectionimages/AN00102/AN00102315_001_l.jpg\n",
            "[!] Issue getting: http://www.britishmuseum.org/collectionimages/AN00102/AN00102315_001_l.jpg\n",
            "[!] Error:: <urlopen error [SSL: CERTIFICATE_VERIFY_FAILED] certificate verify failed (_ssl.c:852)>\n",
            "[%] Downloading Image #17 from http://www.notsoboringlife.com/wp-content/uploads/2011/01/food-and-drink.jpg\n",
            "[%] File Downloaded !\n",
            "\n",
            "[%] Downloading Image #18 from http://thewowstyle.com/wp-content/uploads/2016/07/Traditional-Yellow-Kitchen-Design.jpg\n",
            "[%] File Downloaded !\n",
            "\n",
            "[%] Downloading Image #19 from http://siteforeverything.com/wp-content/uploads/2015/12/Klaus_Enrique_LHOOQ.jpg\n",
            "[%] File Downloaded !\n",
            "\n",
            "[%] Downloading Image #20 from https://wallpapershome.com/images/wallpapers/cheeseburger-2160x3840-fast-food-french-fries-cheese-steak-coca-cola-627.jpg\n",
            "[%] File Downloaded !\n",
            "\n",
            "\n",
            "\n",
            "[%] Done. Downloaded 20 images.\n",
            "\n",
            "===============================================\n",
            "\n"
          ],
          "name": "stdout"
        }
      ]
    },
    {
      "cell_type": "code",
      "metadata": {
        "id": "fS8VTYabpO6d",
        "colab": {
          "base_uri": "https://localhost:8080/"
        },
        "outputId": "6ca178c4-5172-4e62-9826-c289107b337f"
      },
      "source": [
        "downloader.download('furniture', limit=20 , output_dir='images', adult_filter_off=True)"
      ],
      "execution_count": 6,
      "outputs": [
        {
          "output_type": "stream",
          "text": [
            "\n",
            "\n",
            "[!!]Indexing page: 1\n",
            "\n",
            "[%] Indexed 12 Images on Page 1.\n",
            "\n",
            "===============================================\n",
            "\n",
            "[%] Downloading Image #1 from http://www.bigwoodtimberframes.com/wp-content/uploads/2015/03/bath-2-4906.jpg\n",
            "[%] File Downloaded !\n",
            "\n",
            "[%] Downloading Image #2 from https://d29jd5m3t61t9.cloudfront.net/myantiquefurniturecollection.com/images/fbfiles/images/DSC01252_v_1401706013.JPG\n",
            "[%] File Downloaded !\n",
            "\n",
            "[%] Downloading Image #3 from https://www.awesomeinventions.com/wp-content/uploads/2015/03/garden-hangout-pallets.jpg\n",
            "[%] File Downloaded !\n",
            "\n",
            "[%] Downloading Image #4 from https://www.recyclart.org/wp-content/uploads/2013/01/mother-pencil-sculpture-581x800.jpg\n",
            "[%] File Downloaded !\n",
            "\n",
            "[%] Downloading Image #5 from https://buildingmaterials.com.my/wp-content/uploads/2016/01/Polygon-Tiles.jpg\n",
            "[%] File Downloaded !\n",
            "\n",
            "[%] Downloading Image #6 from http://woodarchivist.com/wp-content/uploads/2016/09/1737-DIY-Cyclone-Dust-Collector-7.jpg\n",
            "[%] File Downloaded !\n",
            "\n",
            "[%] Downloading Image #7 from http://myamazingthings.com/wp-content/uploads/2018/01/vintage-dresser-makeover-5-.jpg\n",
            "[%] File Downloaded !\n",
            "\n",
            "[%] Downloading Image #8 from https://www.architectureartdesigns.com/wp-content/uploads/2013/10/350.jpg\n",
            "[%] File Downloaded !\n",
            "\n",
            "[%] Downloading Image #9 from https://hative.com/wp-content/uploads/2014/04/cardboard-crafts/5-cardboard-robot-clothing.jpg\n",
            "[%] File Downloaded !\n",
            "\n",
            "[%] Downloading Image #10 from http://messagenote.com/wp-content/uploads/2011/06/Full-Height-Windows.jpg\n",
            "[%] File Downloaded !\n",
            "\n",
            "[%] Downloading Image #11 from http://cdn.homesthetics.net/wp-content/uploads/2017/10/03-old-shutter-decoration-ideas-homebnc.jpg\n",
            "[%] File Downloaded !\n",
            "\n",
            "[%] Downloading Image #12 from https://designplusmagazine.com/wp-content/uploads/2015/02/bf80ee5a1b8bdca116c5cee004e8a1a1.jpg\n",
            "[Error]Invalid image, not saving https://designplusmagazine.com/wp-content/uploads/2015/02/bf80ee5a1b8bdca116c5cee004e8a1a1.jpg\n",
            "\n",
            "[!] Issue getting: https://designplusmagazine.com/wp-content/uploads/2015/02/bf80ee5a1b8bdca116c5cee004e8a1a1.jpg\n",
            "[!] Error:: No active exception to reraise\n",
            "\n",
            "\n",
            "[!!]Indexing page: 2\n",
            "\n",
            "[%] Indexed 12 Images on Page 2.\n",
            "\n",
            "===============================================\n",
            "\n",
            "[%] Downloading Image #12 from http://www.bigwoodtimberframes.com/wp-content/uploads/2015/03/bath-2-4906.jpg\n",
            "[%] File Downloaded !\n",
            "\n",
            "[%] Downloading Image #13 from https://d29jd5m3t61t9.cloudfront.net/myantiquefurniturecollection.com/images/fbfiles/images/DSC01252_v_1401706013.JPG\n",
            "[%] File Downloaded !\n",
            "\n",
            "[%] Downloading Image #14 from https://www.awesomeinventions.com/wp-content/uploads/2015/03/garden-hangout-pallets.jpg\n",
            "[%] File Downloaded !\n",
            "\n",
            "[%] Downloading Image #15 from https://www.recyclart.org/wp-content/uploads/2013/01/mother-pencil-sculpture-581x800.jpg\n",
            "[%] File Downloaded !\n",
            "\n",
            "[%] Downloading Image #16 from https://buildingmaterials.com.my/wp-content/uploads/2016/01/Polygon-Tiles.jpg\n",
            "[%] File Downloaded !\n",
            "\n",
            "[%] Downloading Image #17 from http://woodarchivist.com/wp-content/uploads/2016/09/1737-DIY-Cyclone-Dust-Collector-7.jpg\n",
            "[%] File Downloaded !\n",
            "\n",
            "[%] Downloading Image #18 from http://myamazingthings.com/wp-content/uploads/2018/01/vintage-dresser-makeover-5-.jpg\n",
            "[%] File Downloaded !\n",
            "\n",
            "[%] Downloading Image #19 from https://www.architectureartdesigns.com/wp-content/uploads/2013/10/350.jpg\n",
            "[%] File Downloaded !\n",
            "\n",
            "[%] Downloading Image #20 from https://hative.com/wp-content/uploads/2014/04/cardboard-crafts/5-cardboard-robot-clothing.jpg\n",
            "[%] File Downloaded !\n",
            "\n",
            "\n",
            "\n",
            "[%] Done. Downloaded 20 images.\n",
            "\n",
            "===============================================\n",
            "\n"
          ],
          "name": "stdout"
        }
      ]
    },
    {
      "cell_type": "code",
      "metadata": {
        "id": "LOUlcefvpxgS",
        "colab": {
          "base_uri": "https://localhost:8080/"
        },
        "outputId": "d3307ae3-f157-4853-9d14-9b50dac803ae"
      },
      "source": [
        "downloader.download('cars', limit=20 , output_dir='images', adult_filter_off=True)"
      ],
      "execution_count": 7,
      "outputs": [
        {
          "output_type": "stream",
          "text": [
            "\n",
            "\n",
            "[!!]Indexing page: 1\n",
            "\n",
            "[%] Indexed 12 Images on Page 1.\n",
            "\n",
            "===============================================\n",
            "\n",
            "[%] Downloading Image #1 from https://wallpapershome.com/images/wallpapers/cyberpunk-2077-2560x1440-e3-2018-artwork-12k-19196.jpg\n",
            "[%] File Downloaded !\n",
            "\n",
            "[%] Downloading Image #2 from https://weneedfun.com/wp-content/uploads/2016/08/Brazilian-Wandering-Spider-162.jpg\n",
            "[%] File Downloaded !\n",
            "\n",
            "[%] Downloading Image #3 from https://wallpapershome.com/images/wallpapers/destiny-2-forsaken-7680x4320-e3-2018-screenshot-8k-19353.jpg\n",
            "[%] File Downloaded !\n",
            "\n",
            "[%] Downloading Image #4 from https://www.setaswall.com/wp-content/uploads/2019/03/Skyline-New-York-City-1080x2400-380x844.jpg\n",
            "[%] File Downloaded !\n",
            "\n",
            "[%] Downloading Image #5 from https://wallpapershome.com/images/wallpapers/living-room-3840x2160-design-high-tech-modern-plants-light-shades-4409.jpg\n",
            "[%] File Downloaded !\n",
            "\n",
            "[%] Downloading Image #6 from https://www.hdwallpapers.in/download/beautiful_red_flowers-1366x768.jpg\n",
            "[%] File Downloaded !\n",
            "\n",
            "[%] Downloading Image #7 from https://wallpapershome.com/images/wallpapers/valentine-039-s-day-1440x2560-valentines-day-heart-decorations-romantic-love-bench-8498.jpg\n",
            "[%] File Downloaded !\n",
            "\n",
            "[%] Downloading Image #8 from https://wallpapershome.com/images/wallpapers/mountain-1440x2560-lake-trees-4k-16728.jpeg\n",
            "[%] File Downloaded !\n",
            "\n",
            "[%] Downloading Image #9 from https://www.wallpapersdsc.net/wp-content/uploads/2020/04/Julie-Cash-Pinterest.jpg\n",
            "[Error]Invalid image, not saving https://www.wallpapersdsc.net/wp-content/uploads/2020/04/Julie-Cash-Pinterest.jpg\n",
            "\n",
            "[!] Issue getting: https://www.wallpapersdsc.net/wp-content/uploads/2020/04/Julie-Cash-Pinterest.jpg\n",
            "[!] Error:: No active exception to reraise\n",
            "[%] Downloading Image #9 from http://siteforeverything.com/wp-content/uploads/2015/06/paun-2.jpg\n",
            "[%] File Downloaded !\n",
            "\n",
            "[%] Downloading Image #10 from https://www.fonewalls.com/wp-content/uploads/2160x3840-Background-HD-Wallpaper-557-300x533.jpg\n",
            "[%] File Downloaded !\n",
            "\n",
            "[%] Downloading Image #11 from https://www.wallpapersdsc.net/wp-content/uploads/2020/04/Aurora-Snow-Beautiful-wallpaper.jpg\n",
            "[%] File Downloaded !\n",
            "\n",
            "\n",
            "\n",
            "[!!]Indexing page: 2\n",
            "\n",
            "[%] Indexed 12 Images on Page 2.\n",
            "\n",
            "===============================================\n",
            "\n",
            "[%] Downloading Image #12 from https://wallpapershome.com/images/wallpapers/cyberpunk-2077-2560x1440-e3-2018-artwork-12k-19196.jpg\n",
            "[%] File Downloaded !\n",
            "\n",
            "[%] Downloading Image #13 from https://weneedfun.com/wp-content/uploads/2016/08/Brazilian-Wandering-Spider-162.jpg\n",
            "[%] File Downloaded !\n",
            "\n",
            "[%] Downloading Image #14 from https://wallpapershome.com/images/wallpapers/destiny-2-forsaken-7680x4320-e3-2018-screenshot-8k-19353.jpg\n",
            "[%] File Downloaded !\n",
            "\n",
            "[%] Downloading Image #15 from https://www.setaswall.com/wp-content/uploads/2019/03/Skyline-New-York-City-1080x2400-380x844.jpg\n",
            "[%] File Downloaded !\n",
            "\n",
            "[%] Downloading Image #16 from https://wallpapershome.com/images/wallpapers/living-room-3840x2160-design-high-tech-modern-plants-light-shades-4409.jpg\n",
            "[%] File Downloaded !\n",
            "\n",
            "[%] Downloading Image #17 from https://www.hdwallpapers.in/download/beautiful_red_flowers-1366x768.jpg\n",
            "[%] File Downloaded !\n",
            "\n",
            "[%] Downloading Image #18 from https://wallpapershome.com/images/wallpapers/valentine-039-s-day-1440x2560-valentines-day-heart-decorations-romantic-love-bench-8498.jpg\n",
            "[%] File Downloaded !\n",
            "\n",
            "[%] Downloading Image #19 from https://wallpapershome.com/images/wallpapers/mountain-1440x2560-lake-trees-4k-16728.jpeg\n",
            "[%] File Downloaded !\n",
            "\n",
            "[%] Downloading Image #20 from https://www.wallpapersdsc.net/wp-content/uploads/2020/04/Julie-Cash-Pinterest.jpg\n",
            "[Error]Invalid image, not saving https://www.wallpapersdsc.net/wp-content/uploads/2020/04/Julie-Cash-Pinterest.jpg\n",
            "\n",
            "[!] Issue getting: https://www.wallpapersdsc.net/wp-content/uploads/2020/04/Julie-Cash-Pinterest.jpg\n",
            "[!] Error:: No active exception to reraise\n",
            "[%] Downloading Image #20 from http://siteforeverything.com/wp-content/uploads/2015/06/paun-2.jpg\n",
            "[%] File Downloaded !\n",
            "\n",
            "\n",
            "\n",
            "[%] Done. Downloaded 20 images.\n",
            "\n",
            "===============================================\n",
            "\n"
          ],
          "name": "stdout"
        }
      ]
    },
    {
      "cell_type": "markdown",
      "metadata": {
        "id": "CmZbudrXycDv"
      },
      "source": [
        "# **STEP 2 : Preprocessing the images**\n",
        "\n",
        " 1. Resizing\n",
        " 2. Flattening"
      ]
    },
    {
      "cell_type": "code",
      "metadata": {
        "id": "SYBv8NC3tLfX"
      },
      "source": [
        "#Preprocessing the images\n",
        "\n",
        "import os\n",
        "import matplotlib.pyplot as plt\n",
        "import numpy as np\n",
        "from skimage.io import imread\n",
        "from skimage.transform import resize"
      ],
      "execution_count": 8,
      "outputs": []
    },
    {
      "cell_type": "markdown",
      "metadata": {
        "id": "yhKWdEg1wNau"
      },
      "source": [
        "# **Flatten the images**\n",
        "\n",
        "---\n",
        "\n",
        "\n",
        "\n",
        "We need to faltten the images out into a single dimension\n",
        "```flatten()``` converts the 2D matrix into 1D vector\n",
        "\n",
        "3 empty lists will be taken\n",
        " For Data\n",
        " For Output\n",
        " For flattened data \n",
        "\n",
        "taking output as ```target```\n",
        "taking data as ```images```\n",
        "passing the ```flattened_data``` to pass to the ML Model"
      ]
    },
    {
      "cell_type": "code",
      "metadata": {
        "id": "wEmHeQEHtsgI"
      },
      "source": [
        "Target = []\n",
        "Images = []\n",
        "Flattened_data = []"
      ],
      "execution_count": 14,
      "outputs": []
    },
    {
      "cell_type": "markdown",
      "metadata": {
        "id": "OKss0-Bzy5TJ"
      },
      "source": [
        "# **Now includeing the path of the data which is images in this case**"
      ]
    },
    {
      "cell_type": "markdown",
      "metadata": {
        "id": "V5_hakmI0jhC"
      },
      "source": [
        "If Method 1 is used"
      ]
    },
    {
      "cell_type": "code",
      "metadata": {
        "id": "4yiCNE9ZzCYE"
      },
      "source": [
        "DATADIR = '/content/gdrive/MyDrive/ML/KAGGLE/food20dataset/train_set/'"
      ],
      "execution_count": null,
      "outputs": []
    },
    {
      "cell_type": "code",
      "metadata": {
        "id": "FYjWgFP_v6o4",
        "colab": {
          "base_uri": "https://localhost:8080/",
          "height": 57
        },
        "outputId": "a54df292-a197-4c8e-a3c4-309c6f91257d"
      },
      "source": [
        "DATADIR "
      ],
      "execution_count": null,
      "outputs": [
        {
          "output_type": "execute_result",
          "data": {
            "application/vnd.google.colaboratory.intrinsic+json": {
              "type": "string"
            },
            "text/plain": [
              "'/content/gdrive/MyDrive/ML/KAGGLE/food20dataset/train_set/'"
            ]
          },
          "metadata": {
            "tags": []
          },
          "execution_count": 6
        }
      ]
    },
    {
      "cell_type": "markdown",
      "metadata": {
        "id": "Q2LmT_6s0pW_"
      },
      "source": [
        "If Method 2 is used\n"
      ]
    },
    {
      "cell_type": "code",
      "metadata": {
        "id": "5_xEmXms0rlk"
      },
      "source": [
        "DATADIR = '/content/images'"
      ],
      "execution_count": 9,
      "outputs": []
    },
    {
      "cell_type": "code",
      "metadata": {
        "colab": {
          "base_uri": "https://localhost:8080/",
          "height": 37
        },
        "id": "ZtZKeqSX152h",
        "outputId": "e513f92d-794e-4f25-de5d-0379cd110ef7"
      },
      "source": [
        "DATADIR"
      ],
      "execution_count": 10,
      "outputs": [
        {
          "output_type": "execute_result",
          "data": {
            "application/vnd.google.colaboratory.intrinsic+json": {
              "type": "string"
            },
            "text/plain": [
              "'/content/images'"
            ]
          },
          "metadata": {
            "tags": []
          },
          "execution_count": 10
        }
      ]
    },
    {
      "cell_type": "markdown",
      "metadata": {
        "id": "OfC-Y6oazHyc"
      },
      "source": [
        "# **Now we have to create catagories for the ML Model**\n",
        "\n",
        "These will be the ones which we will train the model to test for"
      ]
    },
    {
      "cell_type": "markdown",
      "metadata": {
        "id": "FWY-T5b219za"
      },
      "source": [
        "If Method 1 is used"
      ]
    },
    {
      "cell_type": "code",
      "metadata": {
        "id": "Yol5oLQOzPym"
      },
      "source": [
        "CATAGORIES = ['chappati' , 'kathi_roll' , 'tandoori_chicken','upma', 'vada_pav']"
      ],
      "execution_count": null,
      "outputs": []
    },
    {
      "cell_type": "markdown",
      "metadata": {
        "id": "nyZn35Gl2F03"
      },
      "source": [
        "If Method 2 is used"
      ]
    },
    {
      "cell_type": "code",
      "metadata": {
        "id": "7K3769hhxQGb"
      },
      "source": [
        "CATAGORIES = ['cars','fruits','furniture']"
      ],
      "execution_count": 11,
      "outputs": []
    },
    {
      "cell_type": "code",
      "metadata": {
        "colab": {
          "base_uri": "https://localhost:8080/"
        },
        "id": "1DePDJhyxiRN",
        "outputId": "acc9fa18-c6fe-49ae-d155-9ee81d518c54"
      },
      "source": [
        "CATAGORIES"
      ],
      "execution_count": 12,
      "outputs": [
        {
          "output_type": "execute_result",
          "data": {
            "text/plain": [
              "['cars', 'fruits', 'furniture']"
            ]
          },
          "metadata": {
            "tags": []
          },
          "execution_count": 12
        }
      ]
    },
    {
      "cell_type": "markdown",
      "metadata": {
        "id": "nMCpVRJyzZAW"
      },
      "source": [
        "# **Now we have to iterate through these to fetch the images**\n",
        "\n",
        "If we pass the CATAGORIES in form of numbers it becomes very easy for for the ML Model\n",
        "\n",
        "Here we use the concept of **Label Encoding** in which we use the index number \n",
        "\n",
        "**Like for example here**\n",
        "\n",
        "  ```biriyani ``` -> 0 \n",
        "\n",
        "  ```chaat```        -> 1\n",
        "\n",
        "  ```dhokla```    -> 2\n",
        "\n",
        " **Demonstration :**\n",
        "\n",
        "Here ``` class_num```\n",
        "Stores the index numbers\n",
        "\n",
        "# **Create Path to access all Image datasets :**\n",
        "\n",
        "```path``` here is stored in a different way\n",
        "\n",
        "For example in this case the ```path``` here is ```/content/gdrive/MyDrive/ML/KAGGLE/food20dataset/train_set/biriyani```\n",
        "\n",
        "And we know that\n",
        "\n",
        "```DATADIR``` ->```/content/images```\n",
        "\n",
        "```CATAGORIES``` -> ```Adresses_Of_The_Image_Datasets```\n",
        "\n",
        "And ```catagory``` will iterate though ```CATAGORIES```\n",
        "\n",
        "**SO WE WRITE PATH LIKE THIS**\n",
        "\n",
        "```path = os.path.join( DATADIR , catagory )```\n",
        "\n",
        "# **Some Functions Used**\n",
        "\n",
        "```imread``` reads all the values ( images in this case )\n",
        "\n",
        "```join``` is used to join the two paths as mentioned above\n",
        "\n",
        "```plt.imshow(Image_Array)```used to show the images which is read\n",
        "\n",
        "```resize(Image_Array,(Height,Width,3)``` used to resize the image\n"
      ]
    },
    {
      "cell_type": "code",
      "metadata": {
        "id": "RYmnlhpxzfeB"
      },
      "source": [
        "for catagory in CATAGORIES :\n",
        "  class_num = CATAGORIES.index(catagory)\n",
        "  path = os.path.join(DATADIR,catagory)\n",
        "  # Now we will read the values by iterating and is stored\n",
        "  for img in os.listdir(path) :\n",
        "    Image_Array = imread(os.path.join(path,img))\n",
        "    # plt.imshow(Image_Array) to show the images\n",
        "    Image_Resized = resize(Image_Array,(150,150,3))\n",
        "    # Now passing the flattened verion\n",
        "    Flattened_data.append(Image_Resized.flatten())\n",
        "    Images.append(Image_Resized)\n",
        "    Target.append(class_num)"
      ],
      "execution_count": 15,
      "outputs": []
    },
    {
      "cell_type": "markdown",
      "metadata": {
        "id": "_dH_pKKf-yWb"
      },
      "source": [
        "# **Converting everything to NumPy Array**\n",
        "\n",
        "**Syntax :**\n",
        "\n",
        "```Variable_Name = np.array(Variable_Name)```"
      ]
    },
    {
      "cell_type": "code",
      "metadata": {
        "colab": {
          "base_uri": "https://localhost:8080/",
          "height": 283
        },
        "id": "X_6PljwV-66J",
        "outputId": "30fb1582-5fc3-4ad4-bdf3-4a5289e34511"
      },
      "source": [
        "Flattened_data = np.array(Flattened_data)\n",
        "Images = np.array(Images)\n",
        "Target = np.array(Target)\n",
        "\n",
        "unique,count = np.unique(Target,return_counts=True)\n",
        "plt.bar(CATAGORIES,count)"
      ],
      "execution_count": 16,
      "outputs": [
        {
          "output_type": "execute_result",
          "data": {
            "text/plain": [
              "<BarContainer object of 3 artists>"
            ]
          },
          "metadata": {
            "tags": []
          },
          "execution_count": 16
        },
        {
          "output_type": "display_data",
          "data": {
            "image/png": "[encoded data removed]",
            "text/plain": [
              "<Figure size 432x288 with 1 Axes>"
            ]
          },
          "metadata": {
            "tags": [],
            "needs_background": "light"
          }
        }
      ]
    },
    {
      "cell_type": "markdown",
      "metadata": {
        "id": "46P_snTYDTUv"
      },
      "source": [
        "# **Split Data into training and Testing data**\n",
        "\n",
        "If the data is not arranged into two sets for train and test we take the help of \n",
        "\n",
        "```sklearn.model_selsection``` to split the data\n",
        "\n",
        "**Syntax :**\n",
        "\n",
        "```\n",
        "X_train, X_test, y_train, y_test = train_test_split(Flattened_data,Target,test_size=0.2, random_state=42)\n",
        "```\n",
        "\n",
        "\n",
        "# **Concept Of test_size**\n",
        "\n",
        "We break the who dataset into two parts. One of them is kept for training the ML Model and the other is to test the model\n",
        "\n",
        "So as the training part requires more data we try to divide the whole dataset intto\n",
        "\n",
        "```\n",
        "Training Data : Testing data :: 70 : 30 or 80 : 20\n",
        "```\n",
        "So in the ```test_size``` we initialise it with 0.2 or 0.3 or 0.33 which describes the part of dataset which has to be kept for testing purpose\n",
        "\n",
        "# **Some Important Notes**\n",
        "\n",
        "1. The Rows of X_train and y_train must be equal \n",
        "2. The ```shape``` of the X_train will look something like this\n",
        "  ```(n,m)```\n",
        "3. The ```shape``` of y_train will look something like this\n",
        "  ```(n,)```\n",
        "\n",
        "  Here ```n``` is the number of Rows of X_train\n",
        "\n",
        "  \n",
        "  \n",
        "  You can check the shape of the both by the function ```shape()```\n",
        "\n",
        "  ***Syntax :***\n",
        "  \n",
        "  ```X_train.shape()```"
      ]
    },
    {
      "cell_type": "code",
      "metadata": {
        "id": "mzAaZ0wFDah5"
      },
      "source": [
        "from sklearn.model_selection import train_test_split\n",
        "X_train, X_test, y_train, y_test = train_test_split(Flattened_data,Target,test_size=0.2, random_state=42)"
      ],
      "execution_count": 17,
      "outputs": []
    },
    {
      "cell_type": "code",
      "metadata": {
        "colab": {
          "base_uri": "https://localhost:8080/"
        },
        "id": "Pnh4X9wOkZVq",
        "outputId": "2b35e505-9a52-4bf6-e5a6-95556e6b2174"
      },
      "source": [
        "X_train.shape"
      ],
      "execution_count": 19,
      "outputs": [
        {
          "output_type": "execute_result",
          "data": {
            "text/plain": [
              "(48, 67500)"
            ]
          },
          "metadata": {
            "tags": []
          },
          "execution_count": 19
        }
      ]
    },
    {
      "cell_type": "code",
      "metadata": {
        "colab": {
          "base_uri": "https://localhost:8080/"
        },
        "id": "I5uZI-DasPqW",
        "outputId": "12068265-32bd-426a-f8da-84f0a7dc7134"
      },
      "source": [
        "y_train.shape"
      ],
      "execution_count": 20,
      "outputs": [
        {
          "output_type": "execute_result",
          "data": {
            "text/plain": [
              "(48,)"
            ]
          },
          "metadata": {
            "tags": []
          },
          "execution_count": 20
        }
      ]
    },
    {
      "cell_type": "code",
      "metadata": {
        "id": "MU9SkWq7y9wS"
      },
      "source": [
        "from sklearn.model_selection import GridSearchCV\n",
        "from sklearn import svm"
      ],
      "execution_count": 18,
      "outputs": []
    },
    {
      "cell_type": "markdown",
      "metadata": {
        "id": "CuYa7jY-HoOH"
      },
      "source": [
        "# **Using GridSearchCV**\n",
        "\n",
        "There are many methods in GridSearchV. I am taking the ```linear``` and ```gamma```.\n",
        "\n",
        "It gives back the best possible solution between these approaches\n",
        "\n",
        "We also want to check whats the actual probabily of success the model \n",
        "\n",
        "To check that we set ```probability = True```\n",
        "\n",
        "**Syntax :**\n",
        "\n",
        "```\n",
        "svc = svm.SVC(probability = True)```"
      ]
    },
    {
      "cell_type": "code",
      "metadata": {
        "colab": {
          "base_uri": "https://localhost:8080/"
        },
        "id": "kp0TKyEKgoNj",
        "outputId": "e93cde67-97e2-4be1-813b-bf588a60a4b9"
      },
      "source": [
        "param_grid = [\n",
        "  {'C': [1, 10, 100, 1000], 'kernel': ['linear']},\n",
        "  {'C': [1, 10, 100, 1000], 'gamma': [0.001, 0.0001], 'kernel': ['rbf']},\n",
        " ]\n",
        "svc = svm.SVC(probability = True)\n",
        "clf = GridSearchCV(svc,param_grid)\n",
        "clf.fit(X_train,y_train)"
      ],
      "execution_count": 21,
      "outputs": [
        {
          "output_type": "execute_result",
          "data": {
            "text/plain": [
              "GridSearchCV(cv=None, error_score=nan,\n",
              "             estimator=SVC(C=1.0, break_ties=False, cache_size=200,\n",
              "                           class_weight=None, coef0=0.0,\n",
              "                           decision_function_shape='ovr', degree=3,\n",
              "                           gamma='scale', kernel='rbf', max_iter=-1,\n",
              "                           probability=True, random_state=None, shrinking=True,\n",
              "                           tol=0.001, verbose=False),\n",
              "             iid='deprecated', n_jobs=None,\n",
              "             param_grid=[{'C': [1, 10, 100, 1000], 'kernel': ['linear']},\n",
              "                         {'C': [1, 10, 100, 1000], 'gamma': [0.001, 0.0001],\n",
              "                          'kernel': ['rbf']}],\n",
              "             pre_dispatch='2*n_jobs', refit=True, return_train_score=False,\n",
              "             scoring=None, verbose=0)"
            ]
          },
          "metadata": {
            "tags": []
          },
          "execution_count": 21
        }
      ]
    },
    {
      "cell_type": "markdown",
      "metadata": {
        "id": "Nv3wwnd9JgMY"
      },
      "source": [
        "# **Now Checking how accurate it is**\n",
        "\n",
        "What we do is that we compare the predicted score of ```y``` with the real score of ```y```\n",
        "\n",
        "**Syntrax :**\n",
        "\n",
        "To get the predicted output\n",
        "\n",
        "```\n",
        "y_pred = clf.predict(X.test)\n",
        "y_pred\n",
        "```\n"
      ]
    },
    {
      "cell_type": "code",
      "metadata": {
        "colab": {
          "base_uri": "https://localhost:8080/"
        },
        "id": "XSoIrrYdKTUW",
        "outputId": "13a78a00-bcca-450f-b0ea-49aa1ee0afe8"
      },
      "source": [
        "y_pred = clf.predict(X_test)\n",
        "y_pred"
      ],
      "execution_count": 22,
      "outputs": [
        {
          "output_type": "execute_result",
          "data": {
            "text/plain": [
              "array([0, 1, 1, 2, 1, 0, 1, 2, 0, 2, 1, 1])"
            ]
          },
          "metadata": {
            "tags": []
          },
          "execution_count": 22
        }
      ]
    },
    {
      "cell_type": "code",
      "metadata": {
        "colab": {
          "base_uri": "https://localhost:8080/"
        },
        "id": "o2NbmkJWKXuu",
        "outputId": "8f30a4bb-536e-4354-cc92-62e9d7b800e7"
      },
      "source": [
        "y_test"
      ],
      "execution_count": 23,
      "outputs": [
        {
          "output_type": "execute_result",
          "data": {
            "text/plain": [
              "array([0, 0, 1, 2, 0, 2, 1, 2, 0, 2, 2, 2])"
            ]
          },
          "metadata": {
            "tags": []
          },
          "execution_count": 23
        }
      ]
    },
    {
      "cell_type": "markdown",
      "metadata": {
        "id": "dmXKcdO0KqvZ"
      },
      "source": [
        "# **Using sklearn.metrics**\n",
        "\n",
        "To automate the process of creating the accuracy score we import \n",
        "```sklearn.metrics```\n",
        "\n",
        "From this library we use ```accuracy_score,confusion_matrix```"
      ]
    },
    {
      "cell_type": "code",
      "metadata": {
        "colab": {
          "base_uri": "https://localhost:8080/"
        },
        "id": "7GRmmBz6LZUc",
        "outputId": "018854a8-90f0-43a4-b481-3b682f898c39"
      },
      "source": [
        "from sklearn.metrics import accuracy_score,confusion_matrix\n",
        "accuracy_score(y_pred,y_test)"
      ],
      "execution_count": 24,
      "outputs": [
        {
          "output_type": "execute_result",
          "data": {
            "text/plain": [
              "0.5833333333333334"
            ]
          },
          "metadata": {
            "tags": []
          },
          "execution_count": 24
        }
      ]
    },
    {
      "cell_type": "code",
      "metadata": {
        "colab": {
          "base_uri": "https://localhost:8080/"
        },
        "id": "M7eMgLhdMYkM",
        "outputId": "a6d5fb44-ad35-4932-dcd9-8f1010eca680"
      },
      "source": [
        "confusion_matrix(y_pred,y_test)"
      ],
      "execution_count": 25,
      "outputs": [
        {
          "output_type": "execute_result",
          "data": {
            "text/plain": [
              "array([[2, 0, 1],\n",
              "       [2, 2, 2],\n",
              "       [0, 0, 3]])"
            ]
          },
          "metadata": {
            "tags": []
          },
          "execution_count": 25
        }
      ]
    },
    {
      "cell_type": "markdown",
      "metadata": {
        "id": "b44boq7UOidQ"
      },
      "source": [
        "# **Now Storing the current set**\n",
        "\n",
        "We dump the progress to ```pickle``` for future reference\n",
        "\n",
        "**Syntax :**\n",
        "```\n",
        "pickle.dump(clf,open('Model_Name.p','wb'))\n",
        "```"
      ]
    },
    {
      "cell_type": "code",
      "metadata": {
        "id": "VATLhtVrO5Wt"
      },
      "source": [
        "import pickle\n",
        "pickle.dump(clf,open('img_model.p','wb'))"
      ],
      "execution_count": 26,
      "outputs": []
    },
    {
      "cell_type": "markdown",
      "metadata": {
        "id": "p1q3xgq5P_qV"
      },
      "source": [
        "**Now with the help of this pickle value I am going to load the model**\n",
        "\n",
        "This helps to deploy the model\n",
        "\n",
        "**Syntax :**\n",
        "\n",
        "```\n",
        "model = pickle.load(open(\"Model_Name.p','rb))\n",
        "``` "
      ]
    },
    {
      "cell_type": "code",
      "metadata": {
        "id": "RAfSV4hrQrDs"
      },
      "source": [
        "model = pickle.load(open(\"img_model.p\",'rb'))"
      ],
      "execution_count": 28,
      "outputs": []
    },
    {
      "cell_type": "markdown",
      "metadata": {
        "id": "0rlkMHwoRCvC"
      },
      "source": [
        "# **Now Testing With Real Image**\n",
        "\n",
        "We can check with an online image by this line\n",
        "\n",
        "**Syntax :**\n",
        "\n",
        "```\n",
        "url = input(\"URL_Of_Image\")\n",
        "```"
      ]
    },
    {
      "cell_type": "code",
      "metadata": {
        "id": "atvmHWSBRHaP",
        "colab": {
          "base_uri": "https://localhost:8080/"
        },
        "outputId": "12be1cb2-041d-498e-aa69-f697121ee2d7"
      },
      "source": [
        "Flattened_data = []\n",
        "url = input(\"Enter URL of the image\")\n",
        "img = imread(url)\n",
        "img_resized = resize(img,(150,150,3))\n",
        "Flattened_data.append(img_resized.flatten())\n",
        "Flattened_data = np.array(Flattened_data)\n",
        "y_out = model.predict(Flattened_data)\n",
        "y_out = CATAGORIES[y_out[0]]\n",
        "print(\"Predicted Output :\")\n",
        "print(y_out)"
      ],
      "execution_count": 29,
      "outputs": [
        {
          "output_type": "stream",
          "text": [
            "Enter URL of the imagehttps://www.extremetech.com/wp-content/uploads/2019/12/SONATA-hero-option1-764A5360-edit.jpg\n",
            "Predicted Output :\n",
            "cars\n"
          ],
          "name": "stdout"
        }
      ]
    }
  ]
}